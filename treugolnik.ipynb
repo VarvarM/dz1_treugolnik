{
 "cells": [
  {
   "cell_type": "code",
   "execution_count": null,
   "id": "95f669a9",
   "metadata": {},
   "outputs": [],
   "source": [
    "print('Введите стороны треугольника: ')\n",
    "a, b, c = int(input()), int(input()), int(input())\n",
    "d = max(a, b, c)\n",
    "e = min(a, b, c)\n",
    "f = a + b + c - d - e\n",
    "if f + e > d:\n",
    "    print(\"Треугольник существует\")\n",
    "    if d * d == e * e + f * f:\n",
    "        print(\"Прямоугольный треугольник\")\n",
    "    elif d * d >= e * e + f * f:\n",
    "        print(\"Тупоугольный треугольник\")\n",
    "    else:\n",
    "        print('Остроугольный треугольник')\n",
    "    if e == d and d == f:\n",
    "        print('Равносторонний треугольник')\n",
    "    elif (e == d) or (e == f) or (d == f):\n",
    "        print('Равнобедренный треугольник')\n",
    "else:\n",
    "    print(\"Треугольник не существует\")\n"
   ]
  }
 ],
 "metadata": {
  "kernelspec": {
   "display_name": "Python 3 (ipykernel)",
   "language": "python",
   "name": "python3"
  },
  "language_info": {
   "codemirror_mode": {
    "name": "ipython",
    "version": 3
   },
   "file_extension": ".py",
   "mimetype": "text/x-python",
   "name": "python",
   "nbconvert_exporter": "python",
   "pygments_lexer": "ipython3",
   "version": "3.9.7"
  }
 },
 "nbformat": 4,
 "nbformat_minor": 5
}
